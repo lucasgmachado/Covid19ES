{
 "cells": [
  {
   "cell_type": "markdown",
   "metadata": {},
   "source": [
    "# Limpeza de dados - Covid-19 ES, Brasil\n",
    "\n",
    "Nesse notebook vou ajustar os dados da Covid-19 do ES para posteriormente analisar eles.\n",
    "\n",
    "Sumário:\n",
    "1. Obter\n",
    "2. Identificar\n",
    "3. Limpar\n",
    "\n",
    "## Obter\n",
    "\n",
    "Inicialmente vou importar as bibliotecas necessárias para a a limpeza da base (pandas e numpy). Além disso vou importar a base de dados de Covid-19 no ES, que está em um arquivo csv com \";\" como separador, e passar a base para um dataframe. A base pode ser encontrada no link: https://bi.s3.es.gov.br/covid19/MICRODADOS.csv"
   ]
  },
  {
   "cell_type": "code",
   "execution_count": 93,
   "metadata": {},
   "outputs": [],
   "source": [
    "import pandas as pd\n",
    "import numpy as np"
   ]
  },
  {
   "cell_type": "code",
   "execution_count": 94,
   "metadata": {},
   "outputs": [],
   "source": [
    "df=pd.read_csv(\"https://bi.s3.es.gov.br/covid19/MICRODADOS.csv\", sep=\";\", encoding='latin1')"
   ]
  },
  {
   "cell_type": "markdown",
   "metadata": {},
   "source": [
    "## Identificar\n",
    "\n",
    "Para uma primeira visualização vou ver as primeiras 5 linhas e usar a função `.info()` para ver os tipos de dados."
   ]
  },
  {
   "cell_type": "code",
   "execution_count": 95,
   "metadata": {},
   "outputs": [
    {
     "data": {
      "text/html": [
       "<div>\n",
       "<style scoped>\n",
       "    .dataframe tbody tr th:only-of-type {\n",
       "        vertical-align: middle;\n",
       "    }\n",
       "\n",
       "    .dataframe tbody tr th {\n",
       "        vertical-align: top;\n",
       "    }\n",
       "\n",
       "    .dataframe thead th {\n",
       "        text-align: right;\n",
       "    }\n",
       "</style>\n",
       "<table border=\"1\" class=\"dataframe\">\n",
       "  <thead>\n",
       "    <tr style=\"text-align: right;\">\n",
       "      <th></th>\n",
       "      <th>DataNotificacao</th>\n",
       "      <th>DataCadastro</th>\n",
       "      <th>DataDiagnostico</th>\n",
       "      <th>DataColeta_RT_PCR</th>\n",
       "      <th>DataColetaTesteRapido</th>\n",
       "      <th>DataColetaSorologia</th>\n",
       "      <th>DataColetaSorologiaIGG</th>\n",
       "      <th>DataEncerramento</th>\n",
       "      <th>DataObito</th>\n",
       "      <th>Classificacao</th>\n",
       "      <th>...</th>\n",
       "      <th>ViagemBrasil</th>\n",
       "      <th>ViagemInternacional</th>\n",
       "      <th>ProfissionalSaude</th>\n",
       "      <th>PossuiDeficiencia</th>\n",
       "      <th>MoradorDeRua</th>\n",
       "      <th>ResultadoRT_PCR</th>\n",
       "      <th>ResultadoTesteRapido</th>\n",
       "      <th>ResultadoSorologia</th>\n",
       "      <th>ResultadoSorologia_IGG</th>\n",
       "      <th>TipoTesteRapido</th>\n",
       "    </tr>\n",
       "  </thead>\n",
       "  <tbody>\n",
       "    <tr>\n",
       "      <th>0</th>\n",
       "      <td>2021-06-27</td>\n",
       "      <td>2021-06-09</td>\n",
       "      <td>2021-06-21</td>\n",
       "      <td>2021-06-27</td>\n",
       "      <td>NaN</td>\n",
       "      <td>NaN</td>\n",
       "      <td>NaN</td>\n",
       "      <td>2021-06-14</td>\n",
       "      <td>NaN</td>\n",
       "      <td>Suspeito</td>\n",
       "      <td>...</td>\n",
       "      <td>Não</td>\n",
       "      <td>Não</td>\n",
       "      <td>Não</td>\n",
       "      <td>Não</td>\n",
       "      <td>Não</td>\n",
       "      <td>Não Informado</td>\n",
       "      <td>Não Informado</td>\n",
       "      <td>Não Informado</td>\n",
       "      <td>Não Informado</td>\n",
       "      <td>Não Informado</td>\n",
       "    </tr>\n",
       "    <tr>\n",
       "      <th>1</th>\n",
       "      <td>2021-06-27</td>\n",
       "      <td>2021-06-27</td>\n",
       "      <td>2021-06-27</td>\n",
       "      <td>2021-06-27</td>\n",
       "      <td>2021-06-27</td>\n",
       "      <td>NaN</td>\n",
       "      <td>NaN</td>\n",
       "      <td>NaN</td>\n",
       "      <td>NaN</td>\n",
       "      <td>Suspeito</td>\n",
       "      <td>...</td>\n",
       "      <td>Não Informado</td>\n",
       "      <td>Não Informado</td>\n",
       "      <td>Não</td>\n",
       "      <td>Não</td>\n",
       "      <td>Não</td>\n",
       "      <td>Não Informado</td>\n",
       "      <td>Negativo</td>\n",
       "      <td>Não Informado</td>\n",
       "      <td>Não Informado</td>\n",
       "      <td>Teste rápido Antígeno</td>\n",
       "    </tr>\n",
       "    <tr>\n",
       "      <th>2</th>\n",
       "      <td>2021-06-27</td>\n",
       "      <td>2021-06-27</td>\n",
       "      <td>2021-06-27</td>\n",
       "      <td>2021-06-27</td>\n",
       "      <td>2021-06-27</td>\n",
       "      <td>NaN</td>\n",
       "      <td>NaN</td>\n",
       "      <td>NaN</td>\n",
       "      <td>NaN</td>\n",
       "      <td>Suspeito</td>\n",
       "      <td>...</td>\n",
       "      <td>Sim</td>\n",
       "      <td>Sim</td>\n",
       "      <td>Não</td>\n",
       "      <td>Não</td>\n",
       "      <td>Não</td>\n",
       "      <td>Não Informado</td>\n",
       "      <td>Negativo</td>\n",
       "      <td>Não Informado</td>\n",
       "      <td>Não Informado</td>\n",
       "      <td>Teste rápido Antígeno</td>\n",
       "    </tr>\n",
       "    <tr>\n",
       "      <th>3</th>\n",
       "      <td>2021-06-27</td>\n",
       "      <td>2021-06-27</td>\n",
       "      <td>2021-06-25</td>\n",
       "      <td>NaN</td>\n",
       "      <td>2021-06-27</td>\n",
       "      <td>NaN</td>\n",
       "      <td>NaN</td>\n",
       "      <td>NaN</td>\n",
       "      <td>NaN</td>\n",
       "      <td>Descartados</td>\n",
       "      <td>...</td>\n",
       "      <td>Não</td>\n",
       "      <td>Não</td>\n",
       "      <td>Não</td>\n",
       "      <td>Sim</td>\n",
       "      <td>Não</td>\n",
       "      <td>Não Informado</td>\n",
       "      <td>Negativo</td>\n",
       "      <td>Não Informado</td>\n",
       "      <td>Não Informado</td>\n",
       "      <td>Teste rápido Antígeno</td>\n",
       "    </tr>\n",
       "    <tr>\n",
       "      <th>4</th>\n",
       "      <td>2021-06-27</td>\n",
       "      <td>2021-06-27</td>\n",
       "      <td>2021-06-27</td>\n",
       "      <td>2021-06-27</td>\n",
       "      <td>2021-06-27</td>\n",
       "      <td>NaN</td>\n",
       "      <td>NaN</td>\n",
       "      <td>NaN</td>\n",
       "      <td>NaN</td>\n",
       "      <td>Suspeito</td>\n",
       "      <td>...</td>\n",
       "      <td>Não</td>\n",
       "      <td>Não</td>\n",
       "      <td>Não</td>\n",
       "      <td>Não</td>\n",
       "      <td>Não</td>\n",
       "      <td>Não Informado</td>\n",
       "      <td>Negativo</td>\n",
       "      <td>Não Informado</td>\n",
       "      <td>Não Informado</td>\n",
       "      <td>Teste rápido Antígeno</td>\n",
       "    </tr>\n",
       "  </tbody>\n",
       "</table>\n",
       "<p>5 rows × 45 columns</p>\n",
       "</div>"
      ],
      "text/plain": [
       "  DataNotificacao DataCadastro DataDiagnostico DataColeta_RT_PCR  \\\n",
       "0      2021-06-27   2021-06-09      2021-06-21        2021-06-27   \n",
       "1      2021-06-27   2021-06-27      2021-06-27        2021-06-27   \n",
       "2      2021-06-27   2021-06-27      2021-06-27        2021-06-27   \n",
       "3      2021-06-27   2021-06-27      2021-06-25               NaN   \n",
       "4      2021-06-27   2021-06-27      2021-06-27        2021-06-27   \n",
       "\n",
       "  DataColetaTesteRapido DataColetaSorologia DataColetaSorologiaIGG  \\\n",
       "0                   NaN                 NaN                    NaN   \n",
       "1            2021-06-27                 NaN                    NaN   \n",
       "2            2021-06-27                 NaN                    NaN   \n",
       "3            2021-06-27                 NaN                    NaN   \n",
       "4            2021-06-27                 NaN                    NaN   \n",
       "\n",
       "  DataEncerramento DataObito Classificacao  ...   ViagemBrasil  \\\n",
       "0       2021-06-14       NaN      Suspeito  ...            Não   \n",
       "1              NaN       NaN      Suspeito  ...  Não Informado   \n",
       "2              NaN       NaN      Suspeito  ...            Sim   \n",
       "3              NaN       NaN   Descartados  ...            Não   \n",
       "4              NaN       NaN      Suspeito  ...            Não   \n",
       "\n",
       "  ViagemInternacional ProfissionalSaude PossuiDeficiencia MoradorDeRua  \\\n",
       "0                 Não               Não               Não          Não   \n",
       "1       Não Informado               Não               Não          Não   \n",
       "2                 Sim               Não               Não          Não   \n",
       "3                 Não               Não               Sim          Não   \n",
       "4                 Não               Não               Não          Não   \n",
       "\n",
       "  ResultadoRT_PCR ResultadoTesteRapido ResultadoSorologia  \\\n",
       "0   Não Informado        Não Informado      Não Informado   \n",
       "1   Não Informado             Negativo      Não Informado   \n",
       "2   Não Informado             Negativo      Não Informado   \n",
       "3   Não Informado             Negativo      Não Informado   \n",
       "4   Não Informado             Negativo      Não Informado   \n",
       "\n",
       "  ResultadoSorologia_IGG        TipoTesteRapido  \n",
       "0          Não Informado          Não Informado  \n",
       "1          Não Informado  Teste rápido Antígeno  \n",
       "2          Não Informado  Teste rápido Antígeno  \n",
       "3          Não Informado  Teste rápido Antígeno  \n",
       "4          Não Informado  Teste rápido Antígeno  \n",
       "\n",
       "[5 rows x 45 columns]"
      ]
     },
     "execution_count": 95,
     "metadata": {},
     "output_type": "execute_result"
    }
   ],
   "source": [
    "df.head()"
   ]
  },
  {
   "cell_type": "code",
   "execution_count": 96,
   "metadata": {},
   "outputs": [
    {
     "name": "stdout",
     "output_type": "stream",
     "text": [
      "<class 'pandas.core.frame.DataFrame'>\n",
      "RangeIndex: 1604042 entries, 0 to 1604041\n",
      "Data columns (total 45 columns):\n",
      " #   Column                   Non-Null Count    Dtype \n",
      "---  ------                   --------------    ----- \n",
      " 0   DataNotificacao          1604042 non-null  object\n",
      " 1   DataCadastro             1604042 non-null  object\n",
      " 2   DataDiagnostico          1604042 non-null  object\n",
      " 3   DataColeta_RT_PCR        793205 non-null   object\n",
      " 4   DataColetaTesteRapido    570362 non-null   object\n",
      " 5   DataColetaSorologia      87051 non-null    object\n",
      " 6   DataColetaSorologiaIGG   133966 non-null   object\n",
      " 7   DataEncerramento         1379188 non-null  object\n",
      " 8   DataObito                14600 non-null    object\n",
      " 9   Classificacao            1604042 non-null  object\n",
      " 10  Evolucao                 1604042 non-null  object\n",
      " 11  CriterioConfirmacao      1604042 non-null  object\n",
      " 12  StatusNotificacao        1604042 non-null  object\n",
      " 13  Municipio                1604042 non-null  object\n",
      " 14  Bairro                   1588182 non-null  object\n",
      " 15  FaixaEtaria              1604042 non-null  object\n",
      " 16  IdadeNaDataNotificacao   1604042 non-null  object\n",
      " 17  Sexo                     1604042 non-null  object\n",
      " 18  RacaCor                  1604042 non-null  object\n",
      " 19  Escolaridade             1604042 non-null  object\n",
      " 20  Gestante                 1604042 non-null  object\n",
      " 21  Febre                    1604042 non-null  object\n",
      " 22  DificuldadeRespiratoria  1604042 non-null  object\n",
      " 23  Tosse                    1604042 non-null  object\n",
      " 24  Coriza                   1604042 non-null  object\n",
      " 25  DorGarganta              1604042 non-null  object\n",
      " 26  Diarreia                 1604042 non-null  object\n",
      " 27  Cefaleia                 1604042 non-null  object\n",
      " 28  ComorbidadePulmao        1604042 non-null  object\n",
      " 29  ComorbidadeCardio        1604042 non-null  object\n",
      " 30  ComorbidadeRenal         1604042 non-null  object\n",
      " 31  ComorbidadeDiabetes      1604042 non-null  object\n",
      " 32  ComorbidadeTabagismo     1604042 non-null  object\n",
      " 33  ComorbidadeObesidade     1604042 non-null  object\n",
      " 34  FicouInternado           1604042 non-null  object\n",
      " 35  ViagemBrasil             1604042 non-null  object\n",
      " 36  ViagemInternacional      1604042 non-null  object\n",
      " 37  ProfissionalSaude        1604042 non-null  object\n",
      " 38  PossuiDeficiencia        1604042 non-null  object\n",
      " 39  MoradorDeRua             1604042 non-null  object\n",
      " 40  ResultadoRT_PCR          1604042 non-null  object\n",
      " 41  ResultadoTesteRapido     1604042 non-null  object\n",
      " 42  ResultadoSorologia       1604042 non-null  object\n",
      " 43  ResultadoSorologia_IGG   1604042 non-null  object\n",
      " 44  TipoTesteRapido          1604042 non-null  object\n",
      "dtypes: object(45)\n",
      "memory usage: 550.7+ MB\n"
     ]
    }
   ],
   "source": [
    "df.info()"
   ]
  },
  {
   "cell_type": "markdown",
   "metadata": {},
   "source": [
    "Já podemos observar algums pontos de melhoria de nossos dados:\n",
    "1. `DataColeta_RT_PCR`, `DataColetaTesteRapido`, `DataColetaSorologia`, `DataColetaSorologiaIGG`, `DataEncerramento` e `DataObito` contém dados vazios, porém não é um problema, pois nem todos os pacientes fizeram esses testes ou tiveram seu caso encerrado ou faleceram.\n",
    "\n",
    "\n",
    "2. `Bairro` falta alguns dados.\n",
    "\n",
    "\n",
    "3. `DataNotificacao`, `DataCadastro`, `DataDiagnostico`, `DataColeta_RT_PCR`, `DataColetaTesteRapido`, `DataColetaSorologia`, `DataColetaSorologiaIGG`, `DataEncerramento` e `DataObito` estão em formato `object` quando deveria ser `datetime`.\n",
    "\n",
    "\n",
    "4. `IdadeNaDataNotificacao` é tipo `object` quando deveria ser `int`.\n",
    "\n",
    "\n",
    "5. `Febre`, `DificuldadeRespiratoria`, `Tosse`, `Coriza`, `DorGarganta`, `Diarreia`, `Cefaleia`, `ComorbidadePulmao`, `ComorbidadeCardio`, `ComorbidadeRenal`, `ComorbidadeDiabetes`, `ComorbidadeTabagismo`, `ComorbidadeObesidade`, `FicouInternado`, `ViagemBrasil`, `ViagemInternacional`, `ProfissionalSaude`, `PossuiDeficiencia`, `MoradorDeRua`, `ResultadoRT_PCR`, `ResultadoTesteRapido`, `ResultadoSorologia`, `ResultadoSorologia_IGG` estão no tipo `object` quando deveriam ser `boolean`\n",
    "\n",
    "Agora vou ver os principais valores das colunas `Classificacao`, `Evolucao`, `CriterioConfirmacao`, `StatusNotificacao`, `Municipio`, `Bairro`, `FaixaEtaria`, `IdadeNaDataNotificacao`, `Sexo`, `RacaCor`, `Escolaridade`, `Gestante` e `TipoTesteRapido`."
   ]
  },
  {
   "cell_type": "code",
   "execution_count": 97,
   "metadata": {},
   "outputs": [
    {
     "data": {
      "text/plain": [
       "Descartados    816731\n",
       "Confirmados    514907\n",
       "Suspeito       272404\n",
       "Name: Classificacao, dtype: int64"
      ]
     },
     "execution_count": 97,
     "metadata": {},
     "output_type": "execute_result"
    }
   ],
   "source": [
    "df.Classificacao.value_counts()"
   ]
  },
  {
   "cell_type": "markdown",
   "metadata": {},
   "source": [
    "Parece estar tudo certo na coluna `Classificacao`"
   ]
  },
  {
   "cell_type": "code",
   "execution_count": 98,
   "metadata": {},
   "outputs": [
    {
     "data": {
      "text/plain": [
       "Ignorado                   805506\n",
       "Cura                       491831\n",
       "-                          291883\n",
       "Óbito pelo COVID-19         11417\n",
       "Óbito por outras causas      3405\n",
       "Name: Evolucao, dtype: int64"
      ]
     },
     "execution_count": 98,
     "metadata": {},
     "output_type": "execute_result"
    }
   ],
   "source": [
    "df.Evolucao.value_counts()"
   ]
  },
  {
   "cell_type": "markdown",
   "metadata": {},
   "source": [
    "A coluna `Evolucao` tem várias linhas preenchidas com o valor \"-\"."
   ]
  },
  {
   "cell_type": "code",
   "execution_count": 99,
   "metadata": {
    "scrolled": true
   },
   "outputs": [
    {
     "data": {
      "text/plain": [
       "2021-03-31    1\n",
       "2021-06-06    1\n",
       "2021-04-02    1\n",
       "2021-04-14    1\n",
       "2020-08-10    1\n",
       "Name: DataObito, dtype: int64"
      ]
     },
     "execution_count": 99,
     "metadata": {},
     "output_type": "execute_result"
    }
   ],
   "source": [
    "df[df['Evolucao']==\"-\"].DataObito.value_counts()"
   ]
  },
  {
   "cell_type": "markdown",
   "metadata": {},
   "source": [
    "Dentre eles existem apenas 5 óbito, então está mais relacionado a evoluções ignoradas que óbitos."
   ]
  },
  {
   "cell_type": "code",
   "execution_count": 100,
   "metadata": {},
   "outputs": [
    {
     "data": {
      "text/plain": [
       "Laboratorial             1310226\n",
       "Clinico                   133956\n",
       "-                         109634\n",
       "Clinico Epdemiologico      50226\n",
       "Name: CriterioConfirmacao, dtype: int64"
      ]
     },
     "execution_count": 100,
     "metadata": {},
     "output_type": "execute_result"
    }
   ],
   "source": [
    "df.CriterioConfirmacao.value_counts()"
   ]
  },
  {
   "cell_type": "markdown",
   "metadata": {},
   "source": [
    "A coluna `CriterioConfirmacao` tem várias linhas preenchidas com o valor \"-\"."
   ]
  },
  {
   "cell_type": "code",
   "execution_count": 101,
   "metadata": {},
   "outputs": [
    {
     "data": {
      "text/plain": [
       "Encerrado    1379188\n",
       "Em Aberto     224854\n",
       "Name: StatusNotificacao, dtype: int64"
      ]
     },
     "execution_count": 101,
     "metadata": {},
     "output_type": "execute_result"
    }
   ],
   "source": [
    "df.StatusNotificacao.value_counts()"
   ]
  },
  {
   "cell_type": "markdown",
   "metadata": {},
   "source": [
    "A coluna `StatusNotificacao` parece correta."
   ]
  },
  {
   "cell_type": "code",
   "execution_count": 102,
   "metadata": {},
   "outputs": [
    {
     "data": {
      "text/plain": [
       "SERRA                     219957\n",
       "VITORIA                   188547\n",
       "VILA VELHA                185074\n",
       "CARIACICA                 138046\n",
       "LINHARES                   84100\n",
       "                           ...  \n",
       "SALETE                         1\n",
       "SANTO ANTONIO DE JESUS         1\n",
       "OLIMPIA                        1\n",
       "GOIANESIA DO PARA              1\n",
       "MARECHAL DEODORO               1\n",
       "Name: Municipio, Length: 1237, dtype: int64"
      ]
     },
     "execution_count": 102,
     "metadata": {},
     "output_type": "execute_result"
    }
   ],
   "source": [
    "df.Municipio.value_counts()"
   ]
  },
  {
   "cell_type": "markdown",
   "metadata": {},
   "source": [
    "A coluna `Municipio` parece correta."
   ]
  },
  {
   "cell_type": "code",
   "execution_count": 103,
   "metadata": {},
   "outputs": [
    {
     "data": {
      "text/plain": [
       "CENTRO             105897\n",
       "Não Encontrado      69931\n",
       "JARDIM CAMBURI      26325\n",
       "PRAIA DA COSTA      17686\n",
       "JARDIM DA PENHA     15378\n",
       "                    ...  \n",
       "PALMEIRINHA             1\n",
       "ESPERANÇA               1\n",
       "SÃO BERNARDO            1\n",
       "SÃO BERNARDO            1\n",
       "PONTA GROSSA            1\n",
       "Name: Bairro, Length: 3630, dtype: int64"
      ]
     },
     "execution_count": 103,
     "metadata": {},
     "output_type": "execute_result"
    }
   ],
   "source": [
    "df.Bairro.value_counts()"
   ]
  },
  {
   "cell_type": "markdown",
   "metadata": {},
   "source": [
    "Tem muitos bairros marcados como \"Não Encontrado\" e o bairro \"Centro\" devem ser vários diferentes de várias cidades."
   ]
  },
  {
   "cell_type": "code",
   "execution_count": 104,
   "metadata": {},
   "outputs": [
    {
     "data": {
      "text/plain": [
       "30 a 39 anos       379529\n",
       "20 a 29 anos       317824\n",
       "40 a 49 anos       299316\n",
       "50 a 59 anos       200881\n",
       "10 a 19 anos       120748\n",
       "60 a 69 anos       114269\n",
       "0 a 4 anos          58730\n",
       "70 a 79 anos        48770\n",
       "05 a 9 anos         37226\n",
       "80 a 89 anos        21455\n",
       "90 anos ou mais      5234\n",
       "-                      60\n",
       "Name: FaixaEtaria, dtype: int64"
      ]
     },
     "execution_count": 104,
     "metadata": {},
     "output_type": "execute_result"
    }
   ],
   "source": [
    "df.FaixaEtaria.value_counts()"
   ]
  },
  {
   "cell_type": "markdown",
   "metadata": {},
   "source": [
    "Tem 48 faixas etárias como \"-\""
   ]
  },
  {
   "cell_type": "code",
   "execution_count": 105,
   "metadata": {},
   "outputs": [
    {
     "data": {
      "text/plain": [
       "0 anos, -31 dias             231\n",
       "34 anos, 1 meses, 30 dias    161\n",
       "32 anos, 2 meses, 30 dias    160\n",
       "39 anos, 1 meses, 1 dias     151\n",
       "39 anos, 4 meses, 7 dias     149\n",
       "                            ... \n",
       "96 anos, 5 meses, 17 dias      1\n",
       "98 anos, 4 meses, 20 dias      1\n",
       "92 anos, 8 meses, 20 dias      1\n",
       "95 anos, 2 meses, 7 dias       1\n",
       "101 anos, 8 meses, 1 dias      1\n",
       "Name: IdadeNaDataNotificacao, Length: 36094, dtype: int64"
      ]
     },
     "execution_count": 105,
     "metadata": {},
     "output_type": "execute_result"
    }
   ],
   "source": [
    "df.IdadeNaDataNotificacao.value_counts()"
   ]
  },
  {
   "cell_type": "markdown",
   "metadata": {},
   "source": [
    "Tem pessoas com idade negativa."
   ]
  },
  {
   "cell_type": "code",
   "execution_count": 106,
   "metadata": {},
   "outputs": [
    {
     "data": {
      "text/plain": [
       "F    886481\n",
       "M    717174\n",
       "I       387\n",
       "Name: Sexo, dtype: int64"
      ]
     },
     "execution_count": 106,
     "metadata": {},
     "output_type": "execute_result"
    }
   ],
   "source": [
    "df.Sexo.value_counts()"
   ]
  },
  {
   "cell_type": "markdown",
   "metadata": {},
   "source": [
    "Parece que está tudo correto na coluna `Sexo`."
   ]
  },
  {
   "cell_type": "code",
   "execution_count": 107,
   "metadata": {},
   "outputs": [
    {
     "data": {
      "text/plain": [
       "Parda       552745\n",
       "Branca      480618\n",
       "Ignorado    368579\n",
       "Amarela     102948\n",
       "Preta        94077\n",
       "Indigena      5075\n",
       "Name: RacaCor, dtype: int64"
      ]
     },
     "execution_count": 107,
     "metadata": {},
     "output_type": "execute_result"
    }
   ],
   "source": [
    "df.RacaCor.value_counts()"
   ]
  },
  {
   "cell_type": "markdown",
   "metadata": {},
   "source": [
    "A coluna `RacaCor` parece correta."
   ]
  },
  {
   "cell_type": "code",
   "execution_count": 108,
   "metadata": {},
   "outputs": [
    {
     "data": {
      "text/plain": [
       "Ignorado                                                       561967\n",
       "Ensino médio completo (antigo colegial ou 2º grau )            364506\n",
       "Educação superior completa                                     198012\n",
       "5ª à 8ª série incompleta do EF (antigo ginásio ou 1º grau)      99879\n",
       "Ensino médio incompleto (antigo colegial ou 2º grau )           79288\n",
       "Ensino fundamental completo (antigo ginásio ou 1º grau)         75496\n",
       "1ª a 4ª série incompleta do EF (antigo primário ou 1º grau)     60286\n",
       "Não se aplica                                                   49537\n",
       "Educação superior incompleta                                    42968\n",
       "4ª série completa do EF (antigo primário ou 1º grau)            39741\n",
       "Analfabeto                                                      32362\n",
       "Name: Escolaridade, dtype: int64"
      ]
     },
     "execution_count": 108,
     "metadata": {},
     "output_type": "execute_result"
    }
   ],
   "source": [
    "df.Escolaridade.value_counts()"
   ]
  },
  {
   "cell_type": "markdown",
   "metadata": {},
   "source": [
    "Tem linhas como \"Não se aplica\" e outras como \"Ignorado\"."
   ]
  },
  {
   "cell_type": "code",
   "execution_count": 109,
   "metadata": {},
   "outputs": [
    {
     "data": {
      "text/plain": [
       "Não                           873469\n",
       "Não se aplica                 715166\n",
       "3º trimeste                     5691\n",
       "Ignorado                        4557\n",
       "2º trimeste                     2588\n",
       "1º trimeste                     2058\n",
       "Idade gestacional ignorada       513\n",
       "Name: Gestante, dtype: int64"
      ]
     },
     "execution_count": 109,
     "metadata": {},
     "output_type": "execute_result"
    }
   ],
   "source": [
    "df.Gestante.value_counts()"
   ]
  },
  {
   "cell_type": "markdown",
   "metadata": {},
   "source": [
    "Tem \"Ignorado\" e \"Idade gestacional ignorada\"."
   ]
  },
  {
   "cell_type": "code",
   "execution_count": 110,
   "metadata": {},
   "outputs": [
    {
     "data": {
      "text/plain": [
       "Não Informado            1195407\n",
       "Teste rápido Antígeno     287125\n",
       "Teste rápido IgM/IgG      111561\n",
       "Ignorado                    9949\n",
       "Name: TipoTesteRapido, dtype: int64"
      ]
     },
     "execution_count": 110,
     "metadata": {},
     "output_type": "execute_result"
    }
   ],
   "source": [
    "df.TipoTesteRapido.value_counts()"
   ]
  },
  {
   "cell_type": "markdown",
   "metadata": {},
   "source": [
    "Tem \"Não Informado\" e \"Ignorado\"."
   ]
  },
  {
   "cell_type": "markdown",
   "metadata": {},
   "source": [
    "Olhando as colunas de data, existem algumas incorretas"
   ]
  },
  {
   "cell_type": "code",
   "execution_count": 111,
   "metadata": {
    "scrolled": false
   },
   "outputs": [
    {
     "data": {
      "text/html": [
       "<div>\n",
       "<style scoped>\n",
       "    .dataframe tbody tr th:only-of-type {\n",
       "        vertical-align: middle;\n",
       "    }\n",
       "\n",
       "    .dataframe tbody tr th {\n",
       "        vertical-align: top;\n",
       "    }\n",
       "\n",
       "    .dataframe thead th {\n",
       "        text-align: right;\n",
       "    }\n",
       "</style>\n",
       "<table border=\"1\" class=\"dataframe\">\n",
       "  <thead>\n",
       "    <tr style=\"text-align: right;\">\n",
       "      <th></th>\n",
       "      <th>DataNotificacao</th>\n",
       "      <th>DataCadastro</th>\n",
       "      <th>DataDiagnostico</th>\n",
       "      <th>DataColeta_RT_PCR</th>\n",
       "      <th>DataColetaTesteRapido</th>\n",
       "      <th>DataColetaSorologia</th>\n",
       "      <th>DataColetaSorologiaIGG</th>\n",
       "      <th>DataEncerramento</th>\n",
       "      <th>DataObito</th>\n",
       "      <th>Classificacao</th>\n",
       "      <th>...</th>\n",
       "      <th>ViagemBrasil</th>\n",
       "      <th>ViagemInternacional</th>\n",
       "      <th>ProfissionalSaude</th>\n",
       "      <th>PossuiDeficiencia</th>\n",
       "      <th>MoradorDeRua</th>\n",
       "      <th>ResultadoRT_PCR</th>\n",
       "      <th>ResultadoTesteRapido</th>\n",
       "      <th>ResultadoSorologia</th>\n",
       "      <th>ResultadoSorologia_IGG</th>\n",
       "      <th>TipoTesteRapido</th>\n",
       "    </tr>\n",
       "  </thead>\n",
       "  <tbody>\n",
       "    <tr>\n",
       "      <th>41934</th>\n",
       "      <td>2021-06-17</td>\n",
       "      <td>2021-06-17</td>\n",
       "      <td>2021-06-10</td>\n",
       "      <td>NaN</td>\n",
       "      <td>0202-06-15</td>\n",
       "      <td>NaN</td>\n",
       "      <td>NaN</td>\n",
       "      <td>NaN</td>\n",
       "      <td>NaN</td>\n",
       "      <td>Suspeito</td>\n",
       "      <td>...</td>\n",
       "      <td>Não</td>\n",
       "      <td>Não</td>\n",
       "      <td>Não</td>\n",
       "      <td>Não</td>\n",
       "      <td>Não</td>\n",
       "      <td>Não Informado</td>\n",
       "      <td>Negativo</td>\n",
       "      <td>Não Informado</td>\n",
       "      <td>Não Informado</td>\n",
       "      <td>Teste rápido Antígeno</td>\n",
       "    </tr>\n",
       "    <tr>\n",
       "      <th>128566</th>\n",
       "      <td>2021-05-30</td>\n",
       "      <td>2021-06-22</td>\n",
       "      <td>2021-05-25</td>\n",
       "      <td>NaN</td>\n",
       "      <td>0201-05-30</td>\n",
       "      <td>NaN</td>\n",
       "      <td>NaN</td>\n",
       "      <td>NaN</td>\n",
       "      <td>NaN</td>\n",
       "      <td>Descartados</td>\n",
       "      <td>...</td>\n",
       "      <td>Não Informado</td>\n",
       "      <td>Não Informado</td>\n",
       "      <td>Sim</td>\n",
       "      <td>Não</td>\n",
       "      <td>Sim</td>\n",
       "      <td>Não Informado</td>\n",
       "      <td>Negativo</td>\n",
       "      <td>Não Informado</td>\n",
       "      <td>Não Informado</td>\n",
       "      <td>Teste rápido Antígeno</td>\n",
       "    </tr>\n",
       "    <tr>\n",
       "      <th>167064</th>\n",
       "      <td>2021-05-23</td>\n",
       "      <td>2021-05-23</td>\n",
       "      <td>2021-03-14</td>\n",
       "      <td>NaN</td>\n",
       "      <td>1983-03-27</td>\n",
       "      <td>NaN</td>\n",
       "      <td>NaN</td>\n",
       "      <td>2021-06-16</td>\n",
       "      <td>NaN</td>\n",
       "      <td>Descartados</td>\n",
       "      <td>...</td>\n",
       "      <td>Não Informado</td>\n",
       "      <td>Não Informado</td>\n",
       "      <td>Não</td>\n",
       "      <td>Não</td>\n",
       "      <td>Não</td>\n",
       "      <td>Não Informado</td>\n",
       "      <td>Negativo</td>\n",
       "      <td>Não Informado</td>\n",
       "      <td>Não Informado</td>\n",
       "      <td>Teste rápido Antígeno</td>\n",
       "    </tr>\n",
       "    <tr>\n",
       "      <th>431416</th>\n",
       "      <td>2021-03-27</td>\n",
       "      <td>2021-04-11</td>\n",
       "      <td>2021-03-24</td>\n",
       "      <td>NaN</td>\n",
       "      <td>1920-03-27</td>\n",
       "      <td>NaN</td>\n",
       "      <td>NaN</td>\n",
       "      <td>2021-05-03</td>\n",
       "      <td>NaN</td>\n",
       "      <td>Descartados</td>\n",
       "      <td>...</td>\n",
       "      <td>Não</td>\n",
       "      <td>Não Informado</td>\n",
       "      <td>Não</td>\n",
       "      <td>Não</td>\n",
       "      <td>Não</td>\n",
       "      <td>Não Informado</td>\n",
       "      <td>Negativo</td>\n",
       "      <td>Não Informado</td>\n",
       "      <td>Não Informado</td>\n",
       "      <td>Teste rápido Antígeno</td>\n",
       "    </tr>\n",
       "    <tr>\n",
       "      <th>941290</th>\n",
       "      <td>2020-11-27</td>\n",
       "      <td>2020-11-27</td>\n",
       "      <td>2020-11-15</td>\n",
       "      <td>NaN</td>\n",
       "      <td>0027-11-20</td>\n",
       "      <td>NaN</td>\n",
       "      <td>NaN</td>\n",
       "      <td>2021-01-25</td>\n",
       "      <td>NaN</td>\n",
       "      <td>Descartados</td>\n",
       "      <td>...</td>\n",
       "      <td>Não Informado</td>\n",
       "      <td>Não Informado</td>\n",
       "      <td>Não</td>\n",
       "      <td>Não</td>\n",
       "      <td>Não</td>\n",
       "      <td>Não Informado</td>\n",
       "      <td>Negativo</td>\n",
       "      <td>Não Informado</td>\n",
       "      <td>Não Informado</td>\n",
       "      <td>Teste rápido IgM/IgG</td>\n",
       "    </tr>\n",
       "    <tr>\n",
       "      <th>995097</th>\n",
       "      <td>2020-11-16</td>\n",
       "      <td>2020-11-16</td>\n",
       "      <td>2020-11-06</td>\n",
       "      <td>NaN</td>\n",
       "      <td>0016-11-20</td>\n",
       "      <td>NaN</td>\n",
       "      <td>NaN</td>\n",
       "      <td>2021-01-21</td>\n",
       "      <td>NaN</td>\n",
       "      <td>Descartados</td>\n",
       "      <td>...</td>\n",
       "      <td>Não Informado</td>\n",
       "      <td>Não Informado</td>\n",
       "      <td>Não</td>\n",
       "      <td>Não</td>\n",
       "      <td>Não</td>\n",
       "      <td>Não Informado</td>\n",
       "      <td>Negativo</td>\n",
       "      <td>Não Informado</td>\n",
       "      <td>Não Informado</td>\n",
       "      <td>Teste rápido IgM/IgG</td>\n",
       "    </tr>\n",
       "    <tr>\n",
       "      <th>1123784</th>\n",
       "      <td>2020-10-16</td>\n",
       "      <td>2020-10-16</td>\n",
       "      <td>2020-10-16</td>\n",
       "      <td>1969-05-01</td>\n",
       "      <td>1969-05-01</td>\n",
       "      <td>NaN</td>\n",
       "      <td>NaN</td>\n",
       "      <td>2020-10-16</td>\n",
       "      <td>NaN</td>\n",
       "      <td>Descartados</td>\n",
       "      <td>...</td>\n",
       "      <td>Não</td>\n",
       "      <td>Não Informado</td>\n",
       "      <td>Não</td>\n",
       "      <td>Não</td>\n",
       "      <td>Não</td>\n",
       "      <td>Negativo</td>\n",
       "      <td>Negativo</td>\n",
       "      <td>Não Reagente</td>\n",
       "      <td>Não Informado</td>\n",
       "      <td>Não Informado</td>\n",
       "    </tr>\n",
       "    <tr>\n",
       "      <th>1198583</th>\n",
       "      <td>2020-09-25</td>\n",
       "      <td>2020-09-29</td>\n",
       "      <td>2020-09-25</td>\n",
       "      <td>NaN</td>\n",
       "      <td>0025-09-20</td>\n",
       "      <td>NaN</td>\n",
       "      <td>NaN</td>\n",
       "      <td>2020-09-25</td>\n",
       "      <td>NaN</td>\n",
       "      <td>Descartados</td>\n",
       "      <td>...</td>\n",
       "      <td>Não Informado</td>\n",
       "      <td>Não Informado</td>\n",
       "      <td>Não</td>\n",
       "      <td>Não</td>\n",
       "      <td>Não</td>\n",
       "      <td>Não Informado</td>\n",
       "      <td>Negativo</td>\n",
       "      <td>Não Informado</td>\n",
       "      <td>Não Informado</td>\n",
       "      <td>Não Informado</td>\n",
       "    </tr>\n",
       "    <tr>\n",
       "      <th>1231192</th>\n",
       "      <td>2020-09-14</td>\n",
       "      <td>2020-09-16</td>\n",
       "      <td>2020-09-06</td>\n",
       "      <td>NaN</td>\n",
       "      <td>1969-06-13</td>\n",
       "      <td>NaN</td>\n",
       "      <td>NaN</td>\n",
       "      <td>NaN</td>\n",
       "      <td>NaN</td>\n",
       "      <td>Descartados</td>\n",
       "      <td>...</td>\n",
       "      <td>Não Informado</td>\n",
       "      <td>Não Informado</td>\n",
       "      <td>Não</td>\n",
       "      <td>Não</td>\n",
       "      <td>Não</td>\n",
       "      <td>Não Informado</td>\n",
       "      <td>Negativo</td>\n",
       "      <td>Não Informado</td>\n",
       "      <td>Não Informado</td>\n",
       "      <td>Não Informado</td>\n",
       "    </tr>\n",
       "    <tr>\n",
       "      <th>1266009</th>\n",
       "      <td>2020-08-28</td>\n",
       "      <td>2020-09-18</td>\n",
       "      <td>2020-08-28</td>\n",
       "      <td>NaN</td>\n",
       "      <td>0207-08-28</td>\n",
       "      <td>NaN</td>\n",
       "      <td>NaN</td>\n",
       "      <td>2020-08-28</td>\n",
       "      <td>NaN</td>\n",
       "      <td>Descartados</td>\n",
       "      <td>...</td>\n",
       "      <td>Não Informado</td>\n",
       "      <td>Não Informado</td>\n",
       "      <td>Não</td>\n",
       "      <td>Não</td>\n",
       "      <td>Não</td>\n",
       "      <td>Não Informado</td>\n",
       "      <td>Negativo</td>\n",
       "      <td>Não Informado</td>\n",
       "      <td>Não Informado</td>\n",
       "      <td>Não Informado</td>\n",
       "    </tr>\n",
       "    <tr>\n",
       "      <th>1300874</th>\n",
       "      <td>2020-08-15</td>\n",
       "      <td>2020-08-15</td>\n",
       "      <td>2020-08-13</td>\n",
       "      <td>NaN</td>\n",
       "      <td>0028-08-20</td>\n",
       "      <td>NaN</td>\n",
       "      <td>NaN</td>\n",
       "      <td>2020-08-28</td>\n",
       "      <td>NaN</td>\n",
       "      <td>Descartados</td>\n",
       "      <td>...</td>\n",
       "      <td>Não</td>\n",
       "      <td>Não</td>\n",
       "      <td>Não</td>\n",
       "      <td>Não</td>\n",
       "      <td>Não</td>\n",
       "      <td>Não Informado</td>\n",
       "      <td>Negativo</td>\n",
       "      <td>Não Informado</td>\n",
       "      <td>Não Informado</td>\n",
       "      <td>Não Informado</td>\n",
       "    </tr>\n",
       "    <tr>\n",
       "      <th>1390833</th>\n",
       "      <td>2020-07-22</td>\n",
       "      <td>2020-07-25</td>\n",
       "      <td>2020-07-17</td>\n",
       "      <td>NaN</td>\n",
       "      <td>0202-07-22</td>\n",
       "      <td>NaN</td>\n",
       "      <td>NaN</td>\n",
       "      <td>NaN</td>\n",
       "      <td>NaN</td>\n",
       "      <td>Suspeito</td>\n",
       "      <td>...</td>\n",
       "      <td>Não</td>\n",
       "      <td>Não</td>\n",
       "      <td>Não</td>\n",
       "      <td>Não</td>\n",
       "      <td>Não</td>\n",
       "      <td>Não Informado</td>\n",
       "      <td>Não Informado</td>\n",
       "      <td>Não Informado</td>\n",
       "      <td>Não Informado</td>\n",
       "      <td>Não Informado</td>\n",
       "    </tr>\n",
       "    <tr>\n",
       "      <th>1516778</th>\n",
       "      <td>2020-06-09</td>\n",
       "      <td>2020-06-09</td>\n",
       "      <td>2020-05-24</td>\n",
       "      <td>NaN</td>\n",
       "      <td>0024-08-20</td>\n",
       "      <td>NaN</td>\n",
       "      <td>NaN</td>\n",
       "      <td>2020-09-01</td>\n",
       "      <td>NaN</td>\n",
       "      <td>Descartados</td>\n",
       "      <td>...</td>\n",
       "      <td>Não Informado</td>\n",
       "      <td>Não Informado</td>\n",
       "      <td>Sim</td>\n",
       "      <td>Não</td>\n",
       "      <td>Não</td>\n",
       "      <td>Não Informado</td>\n",
       "      <td>Negativo</td>\n",
       "      <td>Não Informado</td>\n",
       "      <td>Não Informado</td>\n",
       "      <td>Não Informado</td>\n",
       "    </tr>\n",
       "  </tbody>\n",
       "</table>\n",
       "<p>13 rows × 45 columns</p>\n",
       "</div>"
      ],
      "text/plain": [
       "        DataNotificacao DataCadastro DataDiagnostico DataColeta_RT_PCR  \\\n",
       "41934        2021-06-17   2021-06-17      2021-06-10               NaN   \n",
       "128566       2021-05-30   2021-06-22      2021-05-25               NaN   \n",
       "167064       2021-05-23   2021-05-23      2021-03-14               NaN   \n",
       "431416       2021-03-27   2021-04-11      2021-03-24               NaN   \n",
       "941290       2020-11-27   2020-11-27      2020-11-15               NaN   \n",
       "995097       2020-11-16   2020-11-16      2020-11-06               NaN   \n",
       "1123784      2020-10-16   2020-10-16      2020-10-16        1969-05-01   \n",
       "1198583      2020-09-25   2020-09-29      2020-09-25               NaN   \n",
       "1231192      2020-09-14   2020-09-16      2020-09-06               NaN   \n",
       "1266009      2020-08-28   2020-09-18      2020-08-28               NaN   \n",
       "1300874      2020-08-15   2020-08-15      2020-08-13               NaN   \n",
       "1390833      2020-07-22   2020-07-25      2020-07-17               NaN   \n",
       "1516778      2020-06-09   2020-06-09      2020-05-24               NaN   \n",
       "\n",
       "        DataColetaTesteRapido DataColetaSorologia DataColetaSorologiaIGG  \\\n",
       "41934              0202-06-15                 NaN                    NaN   \n",
       "128566             0201-05-30                 NaN                    NaN   \n",
       "167064             1983-03-27                 NaN                    NaN   \n",
       "431416             1920-03-27                 NaN                    NaN   \n",
       "941290             0027-11-20                 NaN                    NaN   \n",
       "995097             0016-11-20                 NaN                    NaN   \n",
       "1123784            1969-05-01                 NaN                    NaN   \n",
       "1198583            0025-09-20                 NaN                    NaN   \n",
       "1231192            1969-06-13                 NaN                    NaN   \n",
       "1266009            0207-08-28                 NaN                    NaN   \n",
       "1300874            0028-08-20                 NaN                    NaN   \n",
       "1390833            0202-07-22                 NaN                    NaN   \n",
       "1516778            0024-08-20                 NaN                    NaN   \n",
       "\n",
       "        DataEncerramento DataObito Classificacao  ...   ViagemBrasil  \\\n",
       "41934                NaN       NaN      Suspeito  ...            Não   \n",
       "128566               NaN       NaN   Descartados  ...  Não Informado   \n",
       "167064        2021-06-16       NaN   Descartados  ...  Não Informado   \n",
       "431416        2021-05-03       NaN   Descartados  ...            Não   \n",
       "941290        2021-01-25       NaN   Descartados  ...  Não Informado   \n",
       "995097        2021-01-21       NaN   Descartados  ...  Não Informado   \n",
       "1123784       2020-10-16       NaN   Descartados  ...            Não   \n",
       "1198583       2020-09-25       NaN   Descartados  ...  Não Informado   \n",
       "1231192              NaN       NaN   Descartados  ...  Não Informado   \n",
       "1266009       2020-08-28       NaN   Descartados  ...  Não Informado   \n",
       "1300874       2020-08-28       NaN   Descartados  ...            Não   \n",
       "1390833              NaN       NaN      Suspeito  ...            Não   \n",
       "1516778       2020-09-01       NaN   Descartados  ...  Não Informado   \n",
       "\n",
       "        ViagemInternacional ProfissionalSaude PossuiDeficiencia MoradorDeRua  \\\n",
       "41934                   Não               Não               Não          Não   \n",
       "128566        Não Informado               Sim               Não          Sim   \n",
       "167064        Não Informado               Não               Não          Não   \n",
       "431416        Não Informado               Não               Não          Não   \n",
       "941290        Não Informado               Não               Não          Não   \n",
       "995097        Não Informado               Não               Não          Não   \n",
       "1123784       Não Informado               Não               Não          Não   \n",
       "1198583       Não Informado               Não               Não          Não   \n",
       "1231192       Não Informado               Não               Não          Não   \n",
       "1266009       Não Informado               Não               Não          Não   \n",
       "1300874                 Não               Não               Não          Não   \n",
       "1390833                 Não               Não               Não          Não   \n",
       "1516778       Não Informado               Sim               Não          Não   \n",
       "\n",
       "        ResultadoRT_PCR ResultadoTesteRapido ResultadoSorologia  \\\n",
       "41934     Não Informado             Negativo      Não Informado   \n",
       "128566    Não Informado             Negativo      Não Informado   \n",
       "167064    Não Informado             Negativo      Não Informado   \n",
       "431416    Não Informado             Negativo      Não Informado   \n",
       "941290    Não Informado             Negativo      Não Informado   \n",
       "995097    Não Informado             Negativo      Não Informado   \n",
       "1123784        Negativo             Negativo       Não Reagente   \n",
       "1198583   Não Informado             Negativo      Não Informado   \n",
       "1231192   Não Informado             Negativo      Não Informado   \n",
       "1266009   Não Informado             Negativo      Não Informado   \n",
       "1300874   Não Informado             Negativo      Não Informado   \n",
       "1390833   Não Informado        Não Informado      Não Informado   \n",
       "1516778   Não Informado             Negativo      Não Informado   \n",
       "\n",
       "        ResultadoSorologia_IGG        TipoTesteRapido  \n",
       "41934            Não Informado  Teste rápido Antígeno  \n",
       "128566           Não Informado  Teste rápido Antígeno  \n",
       "167064           Não Informado  Teste rápido Antígeno  \n",
       "431416           Não Informado  Teste rápido Antígeno  \n",
       "941290           Não Informado   Teste rápido IgM/IgG  \n",
       "995097           Não Informado   Teste rápido IgM/IgG  \n",
       "1123784          Não Informado          Não Informado  \n",
       "1198583          Não Informado          Não Informado  \n",
       "1231192          Não Informado          Não Informado  \n",
       "1266009          Não Informado          Não Informado  \n",
       "1300874          Não Informado          Não Informado  \n",
       "1390833          Não Informado          Não Informado  \n",
       "1516778          Não Informado          Não Informado  \n",
       "\n",
       "[13 rows x 45 columns]"
      ]
     },
     "execution_count": 111,
     "metadata": {},
     "output_type": "execute_result"
    }
   ],
   "source": [
    "df[(~df.DataColetaTesteRapido.str.get(0).isin(['2'])) & (~df.DataColetaTesteRapido.isna())]"
   ]
  },
  {
   "cell_type": "code",
   "execution_count": 112,
   "metadata": {},
   "outputs": [
    {
     "name": "stdout",
     "output_type": "stream",
     "text": [
      "56\n"
     ]
    }
   ],
   "source": [
    "datas=['DataNotificacao', 'DataCadastro', 'DataDiagnostico', 'DataColeta_RT_PCR', 'DataColetaTesteRapido', 'DataColetaSorologia', 'DataColetaSorologiaIGG', 'DataEncerramento', 'DataObito']\n",
    "soma=0\n",
    "for i in datas:\n",
    "    soma=soma+len(df[(~df[i].str.get(0).isin(['2'])) & (~df[i].isna())])\n",
    "print(soma)"
   ]
  },
  {
   "cell_type": "markdown",
   "metadata": {},
   "source": [
    "### Resumo\n",
    "\n",
    "- `Bairro` contém dados em branco e outros como \"Não encontrado\".\n",
    "- `DataColeta_RT_PCR`, `DataColetaTesteRapido` e `DataEncerramento` tem dados de data no formato incorreto.\n",
    "- `DataNotificacao`, `DataCadastro`, `DataDiagnostico`, `DataColeta_RT_PCR`, `DataColetaTesteRapido`, `DataColetaSorologia`, `DataColetaSorologiaIGG`, `DataEncerramento` e `DataObito` estão em formato `object` quando deveria ser `datetime`.\n",
    "- `IdadeNaDataNotificacao` é tipo `object` quando deveria ser `int`.\n",
    "- `Febre`, `DificuldadeRespiratoria`, `Tosse`, `Coriza`, `DorGarganta`, `Diarreia`, `Cefaleia`, `ComorbidadePulmao`, `ComorbidadeCardio`, `ComorbidadeRenal`, `ComorbidadeDiabetes`, `ComorbidadeTabagismo`, `ComorbidadeObesidade`, `FicouInternado`, `ViagemBrasil`, `ViagemInternacional`, `ProfissionalSaude`, `PossuiDeficiencia`, `MoradorDeRua`, `ResultadoRT_PCR`, `ResultadoTesteRapido`, `ResultadoSorologia`, `ResultadoSorologia_IGG` estão no tipo `object` quando deveriam ser `boolean`.\n",
    "- A coluna `Evolucao` tem várias linhas preenchidas com o valor \"-\".\n",
    "- A coluna `CriterioConfirmacao` tem várias linhas preenchidas com o valor \"-\".\n",
    "- Tem 48 linhas em `FaixaEtaria` como \"-\".\n",
    "- Tem pessoas `IdadeNaDataNotificacao` com idade negativa.\n",
    "- A coluna `Gestante`tem dados como \"Ignorado\" e \"Idade gestacional ignorada\"\n",
    "- A coluna `TipoTesteRapido`tem dados como \"Não informado\" e \"Ignorado\"\n",
    "- A coluna `Escolaridade` tem linhas como \"Não se aplica\" e outras como \"Ignorado\"\n",
    "\n",
    "## Limpar Dados\n",
    "\n",
    "Para limpar os dados vou para cada um dos problemas acima:\n",
    "\n",
    "1. Definir como esses dados serão limpos\n",
    "2. Executar essa limpeza\n",
    "3. Testar se a limpeza deu certo\n",
    "\n",
    "### Definir\n",
    "Para a coluna de bairro irei transformar os vazios em \"Não encontrado\".\n",
    "\n",
    "### Limpar"
   ]
  },
  {
   "cell_type": "code",
   "execution_count": 113,
   "metadata": {},
   "outputs": [],
   "source": [
    "df.Bairro.fillna(\"Não Encontrado\", inplace=True)"
   ]
  },
  {
   "cell_type": "markdown",
   "metadata": {},
   "source": [
    "### Testar"
   ]
  },
  {
   "cell_type": "code",
   "execution_count": 114,
   "metadata": {},
   "outputs": [
    {
     "data": {
      "text/plain": [
       "0"
      ]
     },
     "execution_count": 114,
     "metadata": {},
     "output_type": "execute_result"
    }
   ],
   "source": [
    "df.Bairro.isna().sum()"
   ]
  },
  {
   "cell_type": "markdown",
   "metadata": {},
   "source": [
    "### Definir\n",
    "\n",
    "Para as colunas `DataColeta_RT_PCR`, `DataColetaTesteRapido` e `DataEncerramento` vou excluir as linhas com dado incorreto.\n",
    "\n",
    "### Limpar"
   ]
  },
  {
   "cell_type": "code",
   "execution_count": 115,
   "metadata": {},
   "outputs": [],
   "source": [
    "datas=['DataNotificacao', 'DataCadastro', 'DataDiagnostico', 'DataColeta_RT_PCR', 'DataColetaTesteRapido', 'DataColetaSorologia', 'DataColetaSorologiaIGG', 'DataEncerramento', 'DataObito']\n",
    "for i in datas:\n",
    "    df.drop(index=df[(~df[i].str.get(0).isin(['2'])) & (~df[i].isna())].index,inplace=True)"
   ]
  },
  {
   "cell_type": "markdown",
   "metadata": {},
   "source": [
    "### Testar"
   ]
  },
  {
   "cell_type": "code",
   "execution_count": 116,
   "metadata": {},
   "outputs": [
    {
     "name": "stdout",
     "output_type": "stream",
     "text": [
      "0\n"
     ]
    }
   ],
   "source": [
    "datas=['DataNotificacao', 'DataCadastro', 'DataDiagnostico', 'DataColeta_RT_PCR', 'DataColetaTesteRapido', 'DataColetaSorologia', 'DataColetaSorologiaIGG', 'DataEncerramento', 'DataObito']\n",
    "soma=0\n",
    "for i in datas:\n",
    "    soma=soma+len(df[(~df[i].str.get(0).isin(['2'])) & (~df[i].isna())])\n",
    "print(soma)"
   ]
  },
  {
   "cell_type": "markdown",
   "metadata": {},
   "source": [
    "### Definir\n",
    "\n",
    "Vou mudar o tipo de dado das colunas `DataNotificacao`, `DataCadastro`, `DataDiagnostico`, `DataColeta_RT_PCR`, `DataColetaTesteRapido`, `DataColetaSorologia`, `DataColetaSorologiaIGG`, `DataEncerramento` e `DataObito` para tipo datetime.\n",
    "\n",
    "### Limpar"
   ]
  },
  {
   "cell_type": "code",
   "execution_count": 117,
   "metadata": {},
   "outputs": [],
   "source": [
    "datas=['DataNotificacao', 'DataCadastro', 'DataDiagnostico', 'DataColeta_RT_PCR', 'DataColetaTesteRapido', 'DataColetaSorologia', 'DataColetaSorologiaIGG', 'DataEncerramento', 'DataObito']\n",
    "for i in datas:\n",
    "    df[i]=pd.to_datetime(df[i],format='%Y-%m-%d')"
   ]
  },
  {
   "cell_type": "markdown",
   "metadata": {},
   "source": [
    "### Testar"
   ]
  },
  {
   "cell_type": "code",
   "execution_count": 118,
   "metadata": {},
   "outputs": [
    {
     "name": "stdout",
     "output_type": "stream",
     "text": [
      "<class 'pandas.core.frame.DataFrame'>\n",
      "Int64Index: 1603988 entries, 0 to 1604041\n",
      "Data columns (total 45 columns):\n",
      " #   Column                   Non-Null Count    Dtype         \n",
      "---  ------                   --------------    -----         \n",
      " 0   DataNotificacao          1603988 non-null  datetime64[ns]\n",
      " 1   DataCadastro             1603988 non-null  datetime64[ns]\n",
      " 2   DataDiagnostico          1603988 non-null  datetime64[ns]\n",
      " 3   DataColeta_RT_PCR        793177 non-null   datetime64[ns]\n",
      " 4   DataColetaTesteRapido    570340 non-null   datetime64[ns]\n",
      " 5   DataColetaSorologia      87041 non-null    datetime64[ns]\n",
      " 6   DataColetaSorologiaIGG   133952 non-null   datetime64[ns]\n",
      " 7   DataEncerramento         1379151 non-null  datetime64[ns]\n",
      " 8   DataObito                14600 non-null    datetime64[ns]\n",
      " 9   Classificacao            1603988 non-null  object        \n",
      " 10  Evolucao                 1603988 non-null  object        \n",
      " 11  CriterioConfirmacao      1603988 non-null  object        \n",
      " 12  StatusNotificacao        1603988 non-null  object        \n",
      " 13  Municipio                1603988 non-null  object        \n",
      " 14  Bairro                   1603988 non-null  object        \n",
      " 15  FaixaEtaria              1603988 non-null  object        \n",
      " 16  IdadeNaDataNotificacao   1603988 non-null  object        \n",
      " 17  Sexo                     1603988 non-null  object        \n",
      " 18  RacaCor                  1603988 non-null  object        \n",
      " 19  Escolaridade             1603988 non-null  object        \n",
      " 20  Gestante                 1603988 non-null  object        \n",
      " 21  Febre                    1603988 non-null  object        \n",
      " 22  DificuldadeRespiratoria  1603988 non-null  object        \n",
      " 23  Tosse                    1603988 non-null  object        \n",
      " 24  Coriza                   1603988 non-null  object        \n",
      " 25  DorGarganta              1603988 non-null  object        \n",
      " 26  Diarreia                 1603988 non-null  object        \n",
      " 27  Cefaleia                 1603988 non-null  object        \n",
      " 28  ComorbidadePulmao        1603988 non-null  object        \n",
      " 29  ComorbidadeCardio        1603988 non-null  object        \n",
      " 30  ComorbidadeRenal         1603988 non-null  object        \n",
      " 31  ComorbidadeDiabetes      1603988 non-null  object        \n",
      " 32  ComorbidadeTabagismo     1603988 non-null  object        \n",
      " 33  ComorbidadeObesidade     1603988 non-null  object        \n",
      " 34  FicouInternado           1603988 non-null  object        \n",
      " 35  ViagemBrasil             1603988 non-null  object        \n",
      " 36  ViagemInternacional      1603988 non-null  object        \n",
      " 37  ProfissionalSaude        1603988 non-null  object        \n",
      " 38  PossuiDeficiencia        1603988 non-null  object        \n",
      " 39  MoradorDeRua             1603988 non-null  object        \n",
      " 40  ResultadoRT_PCR          1603988 non-null  object        \n",
      " 41  ResultadoTesteRapido     1603988 non-null  object        \n",
      " 42  ResultadoSorologia       1603988 non-null  object        \n",
      " 43  ResultadoSorologia_IGG   1603988 non-null  object        \n",
      " 44  TipoTesteRapido          1603988 non-null  object        \n",
      "dtypes: datetime64[ns](9), object(36)\n",
      "memory usage: 602.9+ MB\n"
     ]
    }
   ],
   "source": [
    "df.info()"
   ]
  },
  {
   "cell_type": "markdown",
   "metadata": {},
   "source": [
    "### Definir\n",
    "\n",
    "Vou mudar a coluna `IdadeNaDataNotificacao` para apenas a idade em anos da pessoa e transformar em tipo `int`.\n",
    "\n",
    "### Limpar"
   ]
  },
  {
   "cell_type": "code",
   "execution_count": 34,
   "metadata": {},
   "outputs": [],
   "source": [
    "df['IdadeNaDataNotificacao']=df['IdadeNaDataNotificacao'].str.split(' ',expand=True)[0].astype(int)"
   ]
  },
  {
   "cell_type": "code",
   "execution_count": 35,
   "metadata": {},
   "outputs": [],
   "source": [
    "df.IdadeNaDataNotificacao=df.IdadeNaDataNotificacao.replace(-1,0)"
   ]
  },
  {
   "cell_type": "markdown",
   "metadata": {},
   "source": [
    "### Testar"
   ]
  },
  {
   "cell_type": "code",
   "execution_count": 36,
   "metadata": {},
   "outputs": [
    {
     "data": {
      "text/plain": [
       "array([ 54,  48,  42,  28,  32,  33,  91,  41,  78,  35,  36,  16,  13,\n",
       "        20,  40,  45,  62,  43,  24,  47,  46,  49,  44,  12,  39,  94,\n",
       "        31,  37,   4,  26,  60,  29,  23,  17,  34,   8,   6,  51,   5,\n",
       "        61,  11,  19,   7,  58,  81,  53,  63,  27,  83,  38,   0,  21,\n",
       "         3,  75,  30,  56,  50,  85,   9,  52,  10,  77,  68,  55,  22,\n",
       "        92,   2,  90,  71,  15,  57,  18,  64,  65,  59,  14,   1,  25,\n",
       "        66,  69,  84,  79,  70,  74,  67,  73,  80,  82,  72,  76,  87,\n",
       "       101,  86,  98,  89,  88, 100,  93,  96,  97,  95,  99, 102, 106,\n",
       "       107, 105, 104, 117, 103, 115, 110, 111, 112, 108, 114, 109])"
      ]
     },
     "execution_count": 36,
     "metadata": {},
     "output_type": "execute_result"
    }
   ],
   "source": [
    "df.IdadeNaDataNotificacao.unique()"
   ]
  },
  {
   "cell_type": "code",
   "execution_count": 37,
   "metadata": {},
   "outputs": [
    {
     "data": {
      "text/plain": [
       "dtype('int32')"
      ]
     },
     "execution_count": 37,
     "metadata": {},
     "output_type": "execute_result"
    }
   ],
   "source": [
    "df.IdadeNaDataNotificacao.dtype"
   ]
  },
  {
   "cell_type": "markdown",
   "metadata": {},
   "source": [
    "### Definir\n",
    "\n",
    "Vou transformar as colunas `Febre`, `DificuldadeRespiratoria`, `Tosse`, `Coriza`, `DorGarganta`, `Diarreia`, `Cefaleia`, `ComorbidadePulmao`, `ComorbidadeCardio`, `ComorbidadeRenal`, `ComorbidadeDiabetes`, `ComorbidadeTabagismo`, `ComorbidadeObesidade`, `FicouInternado`, `ViagemBrasil`, `ViagemInternacional`, `ProfissionalSaude`, `PossuiDeficiencia`, `MoradorDeRua`, `ResultadoRT_PCR`, `ResultadoTesteRapido`, `ResultadoSorologia`, `ResultadoSorologia_IGG` para o tipo `boolean`.\n",
    "\n",
    "### Limpar"
   ]
  },
  {
   "cell_type": "code",
   "execution_count": 38,
   "metadata": {},
   "outputs": [],
   "source": [
    "def trans_bool(x):\n",
    "    if x=='Sim':\n",
    "        return True\n",
    "    if x=='Não':\n",
    "        return False\n",
    "\n",
    "def trans_teste1(x):\n",
    "    if x==\"Positivo\":\n",
    "        return True\n",
    "    elif x==\"Negativo\":\n",
    "        return False\n",
    "    else:\n",
    "        return np.nan\n",
    "\n",
    "def trans_teste2(x):\n",
    "    if x==\"Reagente\":\n",
    "        return True\n",
    "    elif x==\"Não Reagente\":\n",
    "        return False\n",
    "    else:\n",
    "        return np.nan\n",
    "    \n",
    "colunas=['Febre', 'DificuldadeRespiratoria', 'Tosse', 'Coriza',\n",
    "       'DorGarganta', 'Diarreia', 'Cefaleia', 'ComorbidadePulmao',\n",
    "       'ComorbidadeCardio', 'ComorbidadeRenal', 'ComorbidadeDiabetes',\n",
    "       'ComorbidadeTabagismo', 'ComorbidadeObesidade', 'FicouInternado',\n",
    "       'ViagemBrasil', 'ViagemInternacional', 'ProfissionalSaude',\n",
    "       'PossuiDeficiencia', 'MoradorDeRua']\n",
    "\n",
    "for i in colunas:\n",
    "    df[i]=df[i].apply(lambda x: trans_bool(x))\n",
    "    df[i]=df[i].astype(bool)\n",
    "    \n",
    "colunas2=[\"ResultadoRT_PCR\", \"ResultadoTesteRapido\"]\n",
    "for i in colunas2:\n",
    "    df[i]=df[i].apply(lambda x: trans_teste1(x))\n",
    "\n",
    "colunas3=[\"ResultadoSorologia\", \"ResultadoSorologia_IGG\"]\n",
    "for i in colunas3:\n",
    "    df[i]=df[i].apply(lambda x: trans_teste2(x))"
   ]
  },
  {
   "cell_type": "markdown",
   "metadata": {},
   "source": [
    "### Testar"
   ]
  },
  {
   "cell_type": "code",
   "execution_count": 39,
   "metadata": {},
   "outputs": [
    {
     "name": "stdout",
     "output_type": "stream",
     "text": [
      "<class 'pandas.core.frame.DataFrame'>\n",
      "Int64Index: 1596156 entries, 0 to 1596217\n",
      "Data columns (total 45 columns):\n",
      " #   Column                   Non-Null Count    Dtype         \n",
      "---  ------                   --------------    -----         \n",
      " 0   DataNotificacao          1596156 non-null  datetime64[ns]\n",
      " 1   DataCadastro             1596156 non-null  datetime64[ns]\n",
      " 2   DataDiagnostico          1596156 non-null  datetime64[ns]\n",
      " 3   DataColeta_RT_PCR        788792 non-null   datetime64[ns]\n",
      " 4   DataColetaTesteRapido    565823 non-null   datetime64[ns]\n",
      " 5   DataColetaSorologia      86868 non-null    datetime64[ns]\n",
      " 6   DataColetaSorologiaIGG   133718 non-null   datetime64[ns]\n",
      " 7   DataEncerramento         1368896 non-null  datetime64[ns]\n",
      " 8   DataObito                14534 non-null    datetime64[ns]\n",
      " 9   Classificacao            1596156 non-null  object        \n",
      " 10  Evolucao                 1596156 non-null  object        \n",
      " 11  CriterioConfirmacao      1596156 non-null  object        \n",
      " 12  StatusNotificacao        1596156 non-null  object        \n",
      " 13  Municipio                1596156 non-null  object        \n",
      " 14  Bairro                   1596156 non-null  object        \n",
      " 15  FaixaEtaria              1596156 non-null  object        \n",
      " 16  IdadeNaDataNotificacao   1596156 non-null  int32         \n",
      " 17  Sexo                     1596156 non-null  object        \n",
      " 18  RacaCor                  1596156 non-null  object        \n",
      " 19  Escolaridade             1596156 non-null  object        \n",
      " 20  Gestante                 1596156 non-null  object        \n",
      " 21  Febre                    1596156 non-null  bool          \n",
      " 22  DificuldadeRespiratoria  1596156 non-null  bool          \n",
      " 23  Tosse                    1596156 non-null  bool          \n",
      " 24  Coriza                   1596156 non-null  bool          \n",
      " 25  DorGarganta              1596156 non-null  bool          \n",
      " 26  Diarreia                 1596156 non-null  bool          \n",
      " 27  Cefaleia                 1596156 non-null  bool          \n",
      " 28  ComorbidadePulmao        1596156 non-null  bool          \n",
      " 29  ComorbidadeCardio        1596156 non-null  bool          \n",
      " 30  ComorbidadeRenal         1596156 non-null  bool          \n",
      " 31  ComorbidadeDiabetes      1596156 non-null  bool          \n",
      " 32  ComorbidadeTabagismo     1596156 non-null  bool          \n",
      " 33  ComorbidadeObesidade     1596156 non-null  bool          \n",
      " 34  FicouInternado           1596156 non-null  bool          \n",
      " 35  ViagemBrasil             1596156 non-null  bool          \n",
      " 36  ViagemInternacional      1596156 non-null  bool          \n",
      " 37  ProfissionalSaude        1596156 non-null  bool          \n",
      " 38  PossuiDeficiencia        1596156 non-null  bool          \n",
      " 39  MoradorDeRua             1596156 non-null  bool          \n",
      " 40  ResultadoRT_PCR          714491 non-null   object        \n",
      " 41  ResultadoTesteRapido     560736 non-null   object        \n",
      " 42  ResultadoSorologia       85690 non-null    object        \n",
      " 43  ResultadoSorologia_IGG   129029 non-null   object        \n",
      " 44  TipoTesteRapido          1596156 non-null  object        \n",
      "dtypes: bool(19), datetime64[ns](9), int32(1), object(16)\n",
      "memory usage: 351.6+ MB\n"
     ]
    }
   ],
   "source": [
    "df.info()"
   ]
  },
  {
   "cell_type": "markdown",
   "metadata": {},
   "source": [
    "### Definir\n",
    "\n",
    "Vou substituir os valores \"-\" na coluna `Evolucao` por \"Ignorado\".\n",
    "\n",
    "### Limpar"
   ]
  },
  {
   "cell_type": "code",
   "execution_count": 40,
   "metadata": {},
   "outputs": [],
   "source": [
    "df.Evolucao=df.Evolucao.replace(\"-\",\"Ignorado\")"
   ]
  },
  {
   "cell_type": "markdown",
   "metadata": {},
   "source": [
    "### Testar"
   ]
  },
  {
   "cell_type": "code",
   "execution_count": 41,
   "metadata": {},
   "outputs": [
    {
     "data": {
      "text/plain": [
       "Ignorado                   1091480\n",
       "Cura                        489918\n",
       "Óbito pelo COVID-19          11369\n",
       "Óbito por outras causas       3389\n",
       "Name: Evolucao, dtype: int64"
      ]
     },
     "execution_count": 41,
     "metadata": {},
     "output_type": "execute_result"
    }
   ],
   "source": [
    "df.Evolucao.value_counts()"
   ]
  },
  {
   "cell_type": "markdown",
   "metadata": {},
   "source": [
    "### Definir\n",
    "\n",
    "Vou substituir os valores \"-\" na coluna `CriterioConfirmacao` por \"Não Confirmado\".\n",
    "\n",
    "### Limpar"
   ]
  },
  {
   "cell_type": "code",
   "execution_count": 42,
   "metadata": {},
   "outputs": [],
   "source": [
    "df.CriterioConfirmacao=df.CriterioConfirmacao.replace(\"-\",\"Não Confirmado\")"
   ]
  },
  {
   "cell_type": "markdown",
   "metadata": {},
   "source": [
    "### Testar"
   ]
  },
  {
   "cell_type": "code",
   "execution_count": 43,
   "metadata": {},
   "outputs": [
    {
     "data": {
      "text/plain": [
       "Laboratorial             1300435\n",
       "Clinico                   134214\n",
       "Não Confirmado            111365\n",
       "Clinico Epdemiologico      50142\n",
       "Name: CriterioConfirmacao, dtype: int64"
      ]
     },
     "execution_count": 43,
     "metadata": {},
     "output_type": "execute_result"
    }
   ],
   "source": [
    "df.CriterioConfirmacao.value_counts()"
   ]
  },
  {
   "cell_type": "markdown",
   "metadata": {},
   "source": [
    "### Definir\n",
    "\n",
    "Vou substituir os valores \"-\" na coluna `FaixaEtaria` por \"0 a 4 anos\", pois todos tem 0 anos:"
   ]
  },
  {
   "cell_type": "code",
   "execution_count": 44,
   "metadata": {},
   "outputs": [
    {
     "data": {
      "text/plain": [
       "0    60\n",
       "Name: IdadeNaDataNotificacao, dtype: int64"
      ]
     },
     "execution_count": 44,
     "metadata": {},
     "output_type": "execute_result"
    }
   ],
   "source": [
    "df[df[\"FaixaEtaria\"]==\"-\"][\"IdadeNaDataNotificacao\"].value_counts()"
   ]
  },
  {
   "cell_type": "markdown",
   "metadata": {},
   "source": [
    "### Limpar"
   ]
  },
  {
   "cell_type": "code",
   "execution_count": 45,
   "metadata": {},
   "outputs": [],
   "source": [
    "df.FaixaEtaria=df.FaixaEtaria.replace(\"-\", \"0 a 4 anos\")"
   ]
  },
  {
   "cell_type": "markdown",
   "metadata": {},
   "source": [
    "### Testar"
   ]
  },
  {
   "cell_type": "code",
   "execution_count": 46,
   "metadata": {
    "scrolled": true
   },
   "outputs": [
    {
     "data": {
      "text/plain": [
       "30 a 39 anos       377718\n",
       "20 a 29 anos       316132\n",
       "40 a 49 anos       297955\n",
       "50 a 59 anos       200008\n",
       "10 a 19 anos       119983\n",
       "60 a 69 anos       113783\n",
       "0 a 4 anos          58481\n",
       "70 a 79 anos        48539\n",
       "05 a 9 anos         36979\n",
       "80 a 89 anos        21358\n",
       "90 anos ou mais      5220\n",
       "Name: FaixaEtaria, dtype: int64"
      ]
     },
     "execution_count": 46,
     "metadata": {},
     "output_type": "execute_result"
    }
   ],
   "source": [
    "df.FaixaEtaria.value_counts()"
   ]
  },
  {
   "cell_type": "markdown",
   "metadata": {},
   "source": [
    "### Definir\n",
    "\n",
    "Vou substituir todos os valores \"idade gestacional ignorada\" por \"ignorado\" na coluna `Gestante`.\n",
    "\n",
    "### Limpar"
   ]
  },
  {
   "cell_type": "code",
   "execution_count": 47,
   "metadata": {},
   "outputs": [],
   "source": [
    "df.Gestante=df.Gestante.replace(\"Idade gestacional ignorada\",\"Ignorado\")"
   ]
  },
  {
   "cell_type": "markdown",
   "metadata": {},
   "source": [
    "### Testar"
   ]
  },
  {
   "cell_type": "code",
   "execution_count": 48,
   "metadata": {},
   "outputs": [
    {
     "data": {
      "text/plain": [
       "Não              869463\n",
       "Não se aplica    711356\n",
       "3º trimeste        5646\n",
       "Ignorado           5066\n",
       "2º trimeste        2574\n",
       "1º trimeste        2051\n",
       "Name: Gestante, dtype: int64"
      ]
     },
     "execution_count": 48,
     "metadata": {},
     "output_type": "execute_result"
    }
   ],
   "source": [
    "df.Gestante.value_counts()"
   ]
  },
  {
   "cell_type": "markdown",
   "metadata": {},
   "source": [
    "### Definir\n",
    "\n",
    "Vou substituir na coluna `TipoTesteRapido` \"Não informado\" por \"Ignorado\".\n",
    "\n",
    "### Limpar"
   ]
  },
  {
   "cell_type": "code",
   "execution_count": 49,
   "metadata": {},
   "outputs": [],
   "source": [
    "df.TipoTesteRapido=df.TipoTesteRapido.replace(\"Não Informado\",\"Ignorado\")"
   ]
  },
  {
   "cell_type": "markdown",
   "metadata": {},
   "source": [
    "### Testar"
   ]
  },
  {
   "cell_type": "code",
   "execution_count": 50,
   "metadata": {},
   "outputs": [
    {
     "data": {
      "text/plain": [
       "Ignorado                 1202052\n",
       "Teste rápido Antígeno     282901\n",
       "Teste rápido IgM/IgG      111203\n",
       "Name: TipoTesteRapido, dtype: int64"
      ]
     },
     "execution_count": 50,
     "metadata": {},
     "output_type": "execute_result"
    }
   ],
   "source": [
    "df.TipoTesteRapido.value_counts()"
   ]
  },
  {
   "cell_type": "markdown",
   "metadata": {},
   "source": [
    "### Definir\n",
    "\n",
    "Vou substituir na coluna `Escolaridade` \"Não se aplica\" por \"Ignorado\".\n",
    "\n",
    "### Limpar"
   ]
  },
  {
   "cell_type": "code",
   "execution_count": 51,
   "metadata": {},
   "outputs": [],
   "source": [
    "df.Escolaridade=df.Escolaridade.replace(\"Não se aplica\",\"Ignorado\")"
   ]
  },
  {
   "cell_type": "markdown",
   "metadata": {},
   "source": [
    "### Testar"
   ]
  },
  {
   "cell_type": "code",
   "execution_count": 52,
   "metadata": {},
   "outputs": [
    {
     "data": {
      "text/plain": [
       "Ignorado                                                       607600\n",
       "Ensino médio completo (antigo colegial ou 2º grau )            363181\n",
       "Educação superior completa                                     197153\n",
       "5ª à 8ª série incompleta do EF (antigo ginásio ou 1º grau)      99447\n",
       "Ensino médio incompleto (antigo colegial ou 2º grau )           78930\n",
       "Ensino fundamental completo (antigo ginásio ou 1º grau)         75191\n",
       "1ª a 4ª série incompleta do EF (antigo primário ou 1º grau)     60022\n",
       "Educação superior incompleta                                    42744\n",
       "4ª série completa do EF (antigo primário ou 1º grau)            39612\n",
       "Analfabeto                                                      32276\n",
       "Name: Escolaridade, dtype: int64"
      ]
     },
     "execution_count": 52,
     "metadata": {},
     "output_type": "execute_result"
    }
   ],
   "source": [
    "df.Escolaridade.value_counts()"
   ]
  },
  {
   "cell_type": "markdown",
   "metadata": {},
   "source": [
    "## Exportar\n",
    "\n",
    "Por fim, vou exportar o arquivo final em um arquivo csv com os dados finais já limpos."
   ]
  },
  {
   "cell_type": "code",
   "execution_count": 53,
   "metadata": {},
   "outputs": [],
   "source": [
    "df.to_csv('Covid19ES.csv', sep=\";\",index=False)"
   ]
  }
 ],
 "metadata": {
  "kernelspec": {
   "display_name": "Python 3",
   "language": "python",
   "name": "python3"
  },
  "language_info": {
   "codemirror_mode": {
    "name": "ipython",
    "version": 3
   },
   "file_extension": ".py",
   "mimetype": "text/x-python",
   "name": "python",
   "nbconvert_exporter": "python",
   "pygments_lexer": "ipython3",
   "version": "3.8.5"
  }
 },
 "nbformat": 4,
 "nbformat_minor": 4
}
